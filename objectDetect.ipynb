{
 "cells": [
  {
   "cell_type": "markdown",
   "metadata": {},
   "source": [
    "Code for figuring out the object detection using open-cv"
   ]
  },
  {
   "cell_type": "code",
   "execution_count": 2,
   "metadata": {},
   "outputs": [],
   "source": [
    "import cv2\n",
    "import numpy as np"
   ]
  },
  {
   "cell_type": "code",
   "execution_count": 9,
   "metadata": {},
   "outputs": [
    {
     "name": "stdout",
     "output_type": "stream",
     "text": [
      "No puck detected.\n"
     ]
    }
   ],
   "source": [
    "import cv2\n",
    "import numpy as np\n",
    "\n",
    "def detect_puck_position(image_path, lower_color, upper_color):\n",
    "    frame = cv2.imread(image_path)\n",
    "    if frame is None:\n",
    "        print(\"Error: Could not load image.\")\n",
    "        return None, None\n",
    "    \n",
    "    # Create a mask for the puck color\n",
    "    mask = cv2.inRange(frame, lower_color, upper_color)\n",
    "\n",
    "    cv2.imshow(\"Mask\", mask)\n",
    "    \n",
    "    # Find contours in the mask\n",
    "    contours, _ = cv2.findContours(mask, cv2.RETR_EXTERNAL, cv2.CHAIN_APPROX_SIMPLE)\n",
    "    \n",
    "    if contours:\n",
    "        # Find the largest contour (assuming it's the puck)\n",
    "        largest_contour = max(contours, key=cv2.contourArea)\n",
    "        \n",
    "        if cv2.contourArea(largest_contour) > 100:  # Filter out small noise\n",
    "            (x, y), radius = cv2.minEnclosingCircle(largest_contour)\n",
    "            center = (int(x), int(y))\n",
    "            \n",
    "            # Draw a point at the center of the puck\n",
    "            cv2.circle(frame, center, 25, (0, 255, 0), -1)\n",
    "            return center, frame\n",
    "    \n",
    "    return None, frame\n",
    "\n",
    "def main():\n",
    "    # Define color range for puck detection (adjust based on puck color)\n",
    "    lower_color = np.array([0, 0, 200])   # Example for red puck\n",
    "    upper_color = np.array([100, 100, 255])\n",
    "    \n",
    "    image_path = \"red1.jpg\"  # Change this to your image path\n",
    "    puck_position, processed_image = detect_puck_position(image_path, lower_color, upper_color)\n",
    "    \n",
    "    if puck_position:\n",
    "        print(f\"Puck detected at position: {puck_position}\")\n",
    "    else:\n",
    "        print(\"No puck detected.\")\n",
    "    \n",
    "    # Display the image with the detected puck\n",
    "    cv2.imshow(\"Puck Detection\", processed_image)\n",
    "    cv2.waitKey(0)\n",
    "    cv2.destroyAllWindows()\n",
    "    cv2.waitKey(1)\n",
    "\n",
    "\n",
    "if __name__ == \"__main__\":\n",
    "    main()\n"
   ]
  },
  {
   "cell_type": "code",
   "execution_count": null,
   "metadata": {},
   "outputs": [],
   "source": []
  }
 ],
 "metadata": {
  "kernelspec": {
   "display_name": "Python 3",
   "language": "python",
   "name": "python3"
  },
  "language_info": {
   "codemirror_mode": {
    "name": "ipython",
    "version": 3
   },
   "file_extension": ".py",
   "mimetype": "text/x-python",
   "name": "python",
   "nbconvert_exporter": "python",
   "pygments_lexer": "ipython3",
   "version": "3.12.6"
  }
 },
 "nbformat": 4,
 "nbformat_minor": 2
}
